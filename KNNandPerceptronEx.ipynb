{
 "cells": [
  {
   "cell_type": "code",
   "execution_count": 1,
   "id": "eafc6f09",
   "metadata": {},
   "outputs": [],
   "source": [
    "import numpy as np"
   ]
  },
  {
   "cell_type": "code",
   "execution_count": 2,
   "id": "3ebc39fc",
   "metadata": {},
   "outputs": [],
   "source": [
    "from sklearn.datasets import load_digits\n",
    "from sklearn.model_selection import train_test_split\n",
    "digits = load_digits()"
   ]
  },
  {
   "cell_type": "code",
   "execution_count": 3,
   "id": "29709b5e",
   "metadata": {},
   "outputs": [],
   "source": [
    "with open('mnist-y.data') as file:\n",
    "    chars = [line[0] for line in file]"
   ]
  },
  {
   "cell_type": "code",
   "execution_count": 4,
   "id": "c0eef959",
   "metadata": {},
   "outputs": [],
   "source": [
    "vectors = []\n",
    "with open('mnist-x.data') as file:\n",
    "    for line in file:\n",
    "        vectors.append([1.0 if float(v) == 1 else -1.0 for v in line.strip().split(',')])"
   ]
  },
  {
   "cell_type": "code",
   "execution_count": 5,
   "id": "ceacbd18",
   "metadata": {},
   "outputs": [
    {
     "data": {
      "text/plain": [
       "<Figure size 432x288 with 0 Axes>"
      ]
     },
     "metadata": {},
     "output_type": "display_data"
    },
    {
     "data": {
      "image/png": "[encoded data removed]",
      "text/plain": [
       "<Figure size 288x288 with 1 Axes>"
      ]
     },
     "metadata": {
      "needs_background": "light"
     },
     "output_type": "display_data"
    }
   ],
   "source": [
    "import matplotlib.pyplot as plt\n",
    "plt.gray()\n",
    "plt.matshow(digits.images[1001])\n",
    "plt.show()"
   ]
  },
  {
   "cell_type": "markdown",
   "id": "89608ad5",
   "metadata": {},
   "source": [
    "# KNN"
   ]
  },
  {
   "cell_type": "code",
   "execution_count": 199,
   "id": "cc8a3f45",
   "metadata": {},
   "outputs": [],
   "source": [
    "digits['data'] = np.where(digits['data']>0,1,-1)"
   ]
  },
  {
   "cell_type": "code",
   "execution_count": 200,
   "id": "89fa14cf",
   "metadata": {},
   "outputs": [],
   "source": [
    "vectors = np.array(vectors)"
   ]
  },
  {
   "cell_type": "code",
   "execution_count": 201,
   "id": "08aa0774",
   "metadata": {},
   "outputs": [],
   "source": [
    "X_train, X_test, y_train, y_test = train_test_split(vectors,chars,test_size=0.20, random_state=42)"
   ]
  },
  {
   "cell_type": "code",
   "execution_count": 202,
   "id": "16980ef9",
   "metadata": {},
   "outputs": [
    {
     "data": {
      "text/plain": [
       "(4800, 784)"
      ]
     },
     "execution_count": 202,
     "metadata": {},
     "output_type": "execute_result"
    }
   ],
   "source": [
    "X_train.shape"
   ]
  },
  {
   "cell_type": "code",
   "execution_count": 203,
   "id": "d2f91b76",
   "metadata": {},
   "outputs": [
    {
     "data": {
      "text/plain": [
       "(1200, 784)"
      ]
     },
     "execution_count": 203,
     "metadata": {},
     "output_type": "execute_result"
    }
   ],
   "source": [
    "X_test.shape"
   ]
  },
  {
   "cell_type": "code",
   "execution_count": 204,
   "id": "3599f174",
   "metadata": {},
   "outputs": [],
   "source": [
    "def predict(test_point, X_train, y_train, k):\n",
    "    distances = ((X_train - test_point) ** 2).sum(axis=1)\n",
    "    indices = distances.argsort()[:k]\n",
    "    classes = y_train[indices[0]]\n",
    "    unique, counts = np.unique(classes, return_counts=True)\n",
    "    closest_class = unique[np.argmax(counts)]\n",
    "    return closest_class\n",
    "\n"
   ]
  },
  {
   "cell_type": "code",
   "execution_count": 205,
   "id": "6f3ea75b",
   "metadata": {},
   "outputs": [],
   "source": [
    "def test():\n",
    "    success = 0\n",
    "    examples = X_test\n",
    "    for e in range(len(examples)):\n",
    "        z = predict(examples[e])\n",
    "        if z == y_test[e]:\n",
    "            success += 1\n",
    "    return float(success) / len(examples)"
   ]
  },
  {
   "cell_type": "code",
   "execution_count": 206,
   "id": "e2eff0ce",
   "metadata": {},
   "outputs": [
    {
     "data": {
      "text/plain": [
       "'9'"
      ]
     },
     "execution_count": 206,
     "metadata": {},
     "output_type": "execute_result"
    }
   ],
   "source": [
    "test_point = np.random.randint(255, size=(4800, 784))\n",
    "predict(test_point,X_train,y_train,3)"
   ]
  },
  {
   "cell_type": "markdown",
   "id": "49edf076",
   "metadata": {},
   "source": [
    "## Prostate"
   ]
  },
  {
   "cell_type": "code",
   "execution_count": 62,
   "id": "d93ed9e6",
   "metadata": {},
   "outputs": [],
   "source": [
    "import pandas as pd"
   ]
  },
  {
   "cell_type": "code",
   "execution_count": 145,
   "id": "d993ea3a",
   "metadata": {},
   "outputs": [],
   "source": [
    "prostate_data = pd.read_csv('prostate.csv')"
   ]
  },
  {
   "cell_type": "code",
   "execution_count": 146,
   "id": "dcc7b2cc",
   "metadata": {},
   "outputs": [],
   "source": [
    "#Divide the data set, and apply the K-NN. Test the accuracy, the training error, and the test error.\n",
    "import pandas as pd\n",
    "import numpy as np\n",
    "\n",
    "# Convierte los datos a matrices NumPy\n",
    "X = prostate_data.values[:, 0:8]\n",
    "y = prostate_data.values[:, 8]\n",
    "\n",
    "# Divide los datos en conjuntos de entrenamiento y prueba\n",
    "from sklearn.model_selection import train_test_split\n",
    "X_train, X_test, y_train, y_test = train_test_split(X, y, test_size=0.2, random_state=42)"
   ]
  },
  {
   "cell_type": "markdown",
   "id": "bbb4e6ce",
   "metadata": {},
   "source": [
    "# Perceptron"
   ]
  },
  {
   "cell_type": "code",
   "execution_count": 153,
   "id": "5276d8be",
   "metadata": {},
   "outputs": [],
   "source": [
    "data = [{'vector': v, 'char': c} for (v, c) in zip(vectors, chars)]"
   ]
  },
  {
   "cell_type": "code",
   "execution_count": 154,
   "id": "a535dd95",
   "metadata": {},
   "outputs": [],
   "source": [
    "def train(target_char, opposite_char, steps, eta=0.1):\n",
    "    train_data = data[:5000]\n",
    "    train_data = [e for e in train_data if e['char'] in (target_char, opposite_char)]\n",
    "    w = np.zeros(train_data[0]['vector'].shape)\n",
    "    weights = w\n",
    "    for _ in range(steps):\n",
    "        for e in train_data:\n",
    "            x = e['vector']\n",
    "            y = e['char']\n",
    "            z = np.dot(x, w)\n",
    "            if z >= 0 and y == opposite_char:\n",
    "                w = w - eta * x\n",
    "            elif z < 0 and y == target_char:\n",
    "                w = w + eta * x\n",
    "    return w\n",
    "\n",
    "\n",
    "def error(target_char, opposite_char,data,w):\n",
    "    success = 0\n",
    "    for e in data:\n",
    "        z = np.dot(e['vector'], w)\n",
    "        if (z >= 0 and e['char'] == target_char) or (z < 0 and e['char'] == opposite_char):\n",
    "            success += 1\n",
    "    return float(success) / len(data)\n",
    "\n",
    "def test(target_char, opposite_char,weights):\n",
    "    success = 0\n",
    "    examples = data[5000:]\n",
    "\n",
    "    examples = [e for e in examples if e['char'] in (target_char, opposite_char)]\n",
    "\n",
    "    for e in examples:\n",
    "        z = np.dot(e['vector'], weights)\n",
    "        if (z >= 0 and e['char'] == target_char) or (z < 0 and e['char'] == opposite_char):\n",
    "            success += 1\n",
    "\n",
    "    return float(success) / len(examples)"
   ]
  },
  {
   "cell_type": "code",
   "execution_count": 155,
   "id": "065433ef",
   "metadata": {},
   "outputs": [],
   "source": [
    "weights = train('1','2',100)"
   ]
  },
  {
   "cell_type": "code",
   "execution_count": 156,
   "id": "a61e8dfa",
   "metadata": {},
   "outputs": [
    {
     "data": {
      "text/plain": [
       "0.9800995024875622"
      ]
     },
     "execution_count": 156,
     "metadata": {},
     "output_type": "execute_result"
    }
   ],
   "source": [
    "test('1','2',weights)"
   ]
  },
  {
   "cell_type": "code",
   "execution_count": null,
   "id": "13b67877",
   "metadata": {},
   "outputs": [],
   "source": []
  }
 ],
 "metadata": {
  "kernelspec": {
   "display_name": "Python 3 (ipykernel)",
   "language": "python",
   "name": "python3"
  },
  "language_info": {
   "codemirror_mode": {
    "name": "ipython",
    "version": 3
   },
   "file_extension": ".py",
   "mimetype": "text/x-python",
   "name": "python",
   "nbconvert_exporter": "python",
   "pygments_lexer": "ipython3",
   "version": "3.9.12"
  }
 },
 "nbformat": 4,
 "nbformat_minor": 5
}
