{
 "cells": [
  {
   "cell_type": "code",
   "execution_count": 1,
   "id": "eafc6f09",
   "metadata": {},
   "outputs": [],
   "source": [
    "import numpy as np\n",
    "import pandas as pd"
   ]
  },
  {
   "cell_type": "code",
   "execution_count": 2,
   "id": "3ebc39fc",
   "metadata": {},
   "outputs": [],
   "source": [
    "from sklearn.datasets import load_digits\n",
    "from sklearn.model_selection import train_test_split\n",
    "from sklearn.model_selection import cross_val_score\n",
    "from sklearn.neighbors import KNeighborsClassifier\n",
    "from sklearn.preprocessing import LabelEncoder\n",
    "from sklearn.metrics import accuracy_score\n",
    "digits = load_digits()"
   ]
  },
  {
   "cell_type": "code",
   "execution_count": 3,
   "id": "29709b5e",
   "metadata": {},
   "outputs": [],
   "source": [
    "with open('mnist-y.data') as file:\n",
    "    chars = [line[0] for line in file]"
   ]
  },
  {
   "cell_type": "code",
   "execution_count": 4,
   "id": "c0eef959",
   "metadata": {},
   "outputs": [],
   "source": [
    "vectors = []\n",
    "with open('mnist-x.data') as file:\n",
    "    for line in file:\n",
    "        vectors.append([1.0 if float(v) == 1 else -1.0 for v in line.strip().split(',')])"
   ]
  },
  {
   "cell_type": "code",
   "execution_count": 5,
   "id": "ceacbd18",
   "metadata": {},
   "outputs": [
    {
     "data": {
      "text/plain": [
       "<Figure size 432x288 with 0 Axes>"
      ]
     },
     "metadata": {},
     "output_type": "display_data"
    },
    {
     "data": {
      "image/png": "[encoded data removed]",
      "text/plain": [
       "<Figure size 288x288 with 1 Axes>"
      ]
     },
     "metadata": {
      "needs_background": "light"
     },
     "output_type": "display_data"
    }
   ],
   "source": [
    "import matplotlib.pyplot as plt\n",
    "plt.gray()\n",
    "plt.matshow(digits.images[1001])\n",
    "plt.show()"
   ]
  },
  {
   "cell_type": "markdown",
   "id": "89608ad5",
   "metadata": {},
   "source": [
    "# KNN"
   ]
  },
  {
   "cell_type": "code",
   "execution_count": 6,
   "id": "cc8a3f45",
   "metadata": {},
   "outputs": [],
   "source": [
    "digits['data'] = np.where(digits['data']>0,1,-1)"
   ]
  },
  {
   "cell_type": "code",
   "execution_count": 7,
   "id": "89fa14cf",
   "metadata": {},
   "outputs": [],
   "source": [
    "vectors = np.array(vectors)"
   ]
  },
  {
   "cell_type": "code",
   "execution_count": 8,
   "id": "08aa0774",
   "metadata": {},
   "outputs": [],
   "source": [
    "X_train, X_test, y_train, y_test = train_test_split(vectors,chars,test_size=0.20, random_state=42)"
   ]
  },
  {
   "cell_type": "code",
   "execution_count": 9,
   "id": "16980ef9",
   "metadata": {},
   "outputs": [
    {
     "data": {
      "text/plain": [
       "(4800, 784)"
      ]
     },
     "execution_count": 9,
     "metadata": {},
     "output_type": "execute_result"
    }
   ],
   "source": [
    "X_train.shape"
   ]
  },
  {
   "cell_type": "code",
   "execution_count": 10,
   "id": "d2f91b76",
   "metadata": {},
   "outputs": [
    {
     "data": {
      "text/plain": [
       "(1200, 784)"
      ]
     },
     "execution_count": 10,
     "metadata": {},
     "output_type": "execute_result"
    }
   ],
   "source": [
    "X_test.shape"
   ]
  },
  {
   "cell_type": "code",
   "execution_count": 11,
   "id": "3599f174",
   "metadata": {},
   "outputs": [],
   "source": [
    "def predict(test_point, X_train, y_train, k):\n",
    "    distances = ((X_train - test_point) ** 2).sum(axis=1)\n",
    "    indices = distances.argsort()[:k]\n",
    "    classes = y_train[indices[0]]\n",
    "    unique, counts = np.unique(classes, return_counts=True)\n",
    "    closest_class = unique[np.argmax(counts)]\n",
    "    return closest_class\n",
    "\n"
   ]
  },
  {
   "cell_type": "code",
   "execution_count": 12,
   "id": "6f3ea75b",
   "metadata": {},
   "outputs": [],
   "source": [
    "def test():\n",
    "    success = 0\n",
    "    examples = X_test\n",
    "    for e in range(len(examples)):\n",
    "        z = predict(examples[e])\n",
    "        if z == y_test[e]:\n",
    "            success += 1\n",
    "    return float(success) / len(examples)"
   ]
  },
  {
   "cell_type": "code",
   "execution_count": 13,
   "id": "e2eff0ce",
   "metadata": {},
   "outputs": [
    {
     "data": {
      "text/plain": [
       "'3'"
      ]
     },
     "execution_count": 13,
     "metadata": {},
     "output_type": "execute_result"
    }
   ],
   "source": [
    "test_point = np.random.randint(255, size=(4800, 784))\n",
    "predict(test_point,X_train,y_train,3)"
   ]
  },
  {
   "cell_type": "markdown",
   "id": "bbb4e6ce",
   "metadata": {},
   "source": [
    "# Perceptron"
   ]
  },
  {
   "cell_type": "code",
   "execution_count": 16,
   "id": "5276d8be",
   "metadata": {},
   "outputs": [],
   "source": [
    "data = [{'vector': v, 'char': c} for (v, c) in zip(vectors, chars)]"
   ]
  },
  {
   "cell_type": "code",
   "execution_count": 17,
   "id": "a535dd95",
   "metadata": {},
   "outputs": [],
   "source": [
    "def train(target_char, opposite_char, steps, eta=0.1):\n",
    "    train_data = data[:5000]\n",
    "    train_data = [e for e in train_data if e['char'] in (target_char, opposite_char)]\n",
    "    w = np.zeros(train_data[0]['vector'].shape)\n",
    "    weights = w\n",
    "    for _ in range(steps):\n",
    "        for e in train_data:\n",
    "            x = e['vector']\n",
    "            y = e['char']\n",
    "            z = np.dot(x, w)\n",
    "            if z >= 0 and y == opposite_char:\n",
    "                w = w - eta * x\n",
    "            elif z < 0 and y == target_char:\n",
    "                w = w + eta * x\n",
    "    return w\n",
    "\n",
    "\n",
    "def error(target_char, opposite_char,data,w):\n",
    "    success = 0\n",
    "    for e in data:\n",
    "        z = np.dot(e['vector'], w)\n",
    "        if (z >= 0 and e['char'] == target_char) or (z < 0 and e['char'] == opposite_char):\n",
    "            success += 1\n",
    "    return float(success) / len(data)\n",
    "\n",
    "def test(target_char, opposite_char,weights):\n",
    "    success = 0\n",
    "    examples = data[5000:]\n",
    "\n",
    "    examples = [e for e in examples if e['char'] in (target_char, opposite_char)]\n",
    "\n",
    "    for e in examples:\n",
    "        z = np.dot(e['vector'], weights)\n",
    "        if (z >= 0 and e['char'] == target_char) or (z < 0 and e['char'] == opposite_char):\n",
    "            success += 1\n",
    "\n",
    "    return float(success) / len(examples)"
   ]
  },
  {
   "cell_type": "code",
   "execution_count": 18,
   "id": "065433ef",
   "metadata": {},
   "outputs": [],
   "source": [
    "weights = train('1','2',100)"
   ]
  },
  {
   "cell_type": "code",
   "execution_count": 19,
   "id": "a61e8dfa",
   "metadata": {},
   "outputs": [
    {
     "data": {
      "text/plain": [
       "0.9800995024875622"
      ]
     },
     "execution_count": 19,
     "metadata": {},
     "output_type": "execute_result"
    }
   ],
   "source": [
    "test('1','2',weights)"
   ]
  },
  {
   "cell_type": "markdown",
   "id": "9905ab3b",
   "metadata": {},
   "source": [
    "# Prostate"
   ]
  },
  {
   "cell_type": "code",
   "execution_count": 28,
   "id": "13b67877",
   "metadata": {},
   "outputs": [
    {
     "data": {
      "text/html": [
       "<div>\n",
       "<style scoped>\n",
       "    .dataframe tbody tr th:only-of-type {\n",
       "        vertical-align: middle;\n",
       "    }\n",
       "\n",
       "    .dataframe tbody tr th {\n",
       "        vertical-align: top;\n",
       "    }\n",
       "\n",
       "    .dataframe thead th {\n",
       "        text-align: right;\n",
       "    }\n",
       "</style>\n",
       "<table border=\"1\" class=\"dataframe\">\n",
       "  <thead>\n",
       "    <tr style=\"text-align: right;\">\n",
       "      <th></th>\n",
       "      <th>lcavol</th>\n",
       "      <th>lweight</th>\n",
       "      <th>age</th>\n",
       "      <th>lbph</th>\n",
       "      <th>svi</th>\n",
       "      <th>lcp</th>\n",
       "      <th>gleason</th>\n",
       "      <th>pgg45</th>\n",
       "      <th>lpsa</th>\n",
       "    </tr>\n",
       "  </thead>\n",
       "  <tbody>\n",
       "    <tr>\n",
       "      <th>0</th>\n",
       "      <td>-0.579818</td>\n",
       "      <td>2.769459</td>\n",
       "      <td>50</td>\n",
       "      <td>-1.386294</td>\n",
       "      <td>0</td>\n",
       "      <td>-1.386294</td>\n",
       "      <td>6</td>\n",
       "      <td>0</td>\n",
       "      <td>-0.430783</td>\n",
       "    </tr>\n",
       "    <tr>\n",
       "      <th>1</th>\n",
       "      <td>-0.994252</td>\n",
       "      <td>3.319626</td>\n",
       "      <td>58</td>\n",
       "      <td>-1.386294</td>\n",
       "      <td>0</td>\n",
       "      <td>-1.386294</td>\n",
       "      <td>6</td>\n",
       "      <td>0</td>\n",
       "      <td>-0.162519</td>\n",
       "    </tr>\n",
       "    <tr>\n",
       "      <th>2</th>\n",
       "      <td>-0.510826</td>\n",
       "      <td>2.691243</td>\n",
       "      <td>74</td>\n",
       "      <td>-1.386294</td>\n",
       "      <td>0</td>\n",
       "      <td>-1.386294</td>\n",
       "      <td>7</td>\n",
       "      <td>20</td>\n",
       "      <td>-0.162519</td>\n",
       "    </tr>\n",
       "    <tr>\n",
       "      <th>3</th>\n",
       "      <td>-1.203973</td>\n",
       "      <td>3.282789</td>\n",
       "      <td>58</td>\n",
       "      <td>-1.386294</td>\n",
       "      <td>0</td>\n",
       "      <td>-1.386294</td>\n",
       "      <td>6</td>\n",
       "      <td>0</td>\n",
       "      <td>-0.162519</td>\n",
       "    </tr>\n",
       "    <tr>\n",
       "      <th>4</th>\n",
       "      <td>0.751416</td>\n",
       "      <td>3.432373</td>\n",
       "      <td>62</td>\n",
       "      <td>-1.386294</td>\n",
       "      <td>0</td>\n",
       "      <td>-1.386294</td>\n",
       "      <td>6</td>\n",
       "      <td>0</td>\n",
       "      <td>0.371564</td>\n",
       "    </tr>\n",
       "  </tbody>\n",
       "</table>\n",
       "</div>"
      ],
      "text/plain": [
       "     lcavol   lweight  age      lbph  svi       lcp  gleason  pgg45      lpsa\n",
       "0 -0.579818  2.769459   50 -1.386294    0 -1.386294        6      0 -0.430783\n",
       "1 -0.994252  3.319626   58 -1.386294    0 -1.386294        6      0 -0.162519\n",
       "2 -0.510826  2.691243   74 -1.386294    0 -1.386294        7     20 -0.162519\n",
       "3 -1.203973  3.282789   58 -1.386294    0 -1.386294        6      0 -0.162519\n",
       "4  0.751416  3.432373   62 -1.386294    0 -1.386294        6      0  0.371564"
      ]
     },
     "execution_count": 28,
     "metadata": {},
     "output_type": "execute_result"
    }
   ],
   "source": [
    "prostate_data = pd.read_csv('prostate.csv')\n",
    "prostate_data.head()"
   ]
  },
  {
   "cell_type": "code",
   "execution_count": 21,
   "id": "859bf684",
   "metadata": {},
   "outputs": [
    {
     "name": "stdout",
     "output_type": "stream",
     "text": [
      "1    65\n",
      "0    19\n",
      "2    13\n",
      "Name: lpsa, dtype: int64\n"
     ]
    }
   ],
   "source": [
    "prostate_data['lpsa'] = pd.cut(prostate_data['lpsa'], bins=3, labels=False)# hay que dividir en 10 las categorias\n",
    "\n",
    "print(prostate_data['lpsa'].value_counts())"
   ]
  },
  {
   "cell_type": "markdown",
   "id": "ab86db7c",
   "metadata": {},
   "source": [
    "Convierte los datos a matrices"
   ]
  },
  {
   "cell_type": "code",
   "execution_count": 22,
   "id": "0648f44c",
   "metadata": {},
   "outputs": [
    {
     "name": "stdout",
     "output_type": "stream",
     "text": [
      "(97, 8)\n"
     ]
    },
    {
     "data": {
      "text/plain": [
       "(67, 8)"
      ]
     },
     "execution_count": 22,
     "metadata": {},
     "output_type": "execute_result"
    }
   ],
   "source": [
    "\n",
    "X = prostate_data.values[:, 0:8]\n",
    "print(X.shape)\n",
    "y = prostate_data.values[:, 8]\n",
    "\n",
    "X_train, X_test, y_train, y_test = train_test_split(X, y, test_size=0.3, random_state=42)\n",
    "\n",
    "X_train.shape"
   ]
  },
  {
   "cell_type": "code",
   "execution_count": 34,
   "id": "ba142535",
   "metadata": {},
   "outputs": [
    {
     "name": "stdout",
     "output_type": "stream",
     "text": [
      "4\n"
     ]
    }
   ],
   "source": [
    "le = LabelEncoder()\n",
    "y_train = le.fit_transform(y_train)\n",
    "\n",
    "knn = KNeighborsClassifier(n_neighbors=3)\n",
    "\n",
    "scores = cross_val_score(knn, X_train, y_train, cv=5)\n",
    "\n",
    "best_k = np.argmax(scores) + 1\n",
    "print(best_k)\n",
    "\n",
    "knn = KNeighborsClassifier(n_neighbors=best_k)\n",
    "\n",
    "knn.fit(X_train, y_train)\n",
    "\n",
    "# Testing \n",
    "y_pred = knn.predict(X_test)"
   ]
  },
  {
   "cell_type": "code",
   "execution_count": 33,
   "id": "ab8d5475",
   "metadata": {},
   "outputs": [
    {
     "name": "stdout",
     "output_type": "stream",
     "text": [
      "Accuracy training 0.7164\n",
      "Accuracy testing 0.6333\n"
     ]
    }
   ],
   "source": [
    "\n",
    "\n",
    "# Predice las etiquetas de los datos de entrenamiento y de prueba\n",
    "y_train_pred = knn.predict(X_train)\n",
    "y_test_pred = knn.predict(X_test)\n",
    "\n",
    "train_accuracy = accuracy_score(y_train, y_train_pred)\n",
    "test_accuracy = accuracy_score(y_test, y_test_pred)\n",
    "\n",
    "print(\"Accuracy training\", round(train_accuracy,4))\n",
    "print(\"Accuracy testing\", round(test_accuracy,4))"
   ]
  },
  {
   "cell_type": "code",
   "execution_count": null,
   "id": "48afea45",
   "metadata": {},
   "outputs": [],
   "source": []
  }
 ],
 "metadata": {
  "kernelspec": {
   "display_name": "Python 3 (ipykernel)",
   "language": "python",
   "name": "python3"
  },
  "language_info": {
   "codemirror_mode": {
    "name": "ipython",
    "version": 3
   },
   "file_extension": ".py",
   "mimetype": "text/x-python",
   "name": "python",
   "nbconvert_exporter": "python",
   "pygments_lexer": "ipython3",
   "version": "3.9.12"
  }
 },
 "nbformat": 4,
 "nbformat_minor": 5
}
